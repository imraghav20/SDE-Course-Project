{
  "nbformat": 4,
  "nbformat_minor": 0,
  "metadata": {
    "colab": {
      "name": "SDE Course Project.ipynb",
      "provenance": [],
      "collapsed_sections": [],
      "authorship_tag": "ABX9TyMGtkZ3DjCUKR8GaLVfb00p"
    },
    "kernelspec": {
      "name": "python3",
      "display_name": "Python 3"
    },
    "language_info": {
      "name": "python"
    }
  },
  "cells": [
    {
      "cell_type": "code",
      "execution_count": 1,
      "metadata": {
        "colab": {
          "base_uri": "https://localhost:8080/"
        },
        "id": "RnyVSrRdUmvA",
        "outputId": "5760b78a-223b-4c71-aae8-2d870b188201"
      },
      "outputs": [
        {
          "output_type": "stream",
          "name": "stdout",
          "text": [
            "Cloning into 'db-scripts'...\n",
            "remote: Enumerating objects: 2046, done.\u001b[K\n",
            "remote: Counting objects: 100% (7/7), done.\u001b[K\n",
            "remote: Compressing objects: 100% (7/7), done.\u001b[K\n",
            "remote: Total 2046 (delta 0), reused 3 (delta 0), pack-reused 2039\u001b[K\n",
            "Receiving objects: 100% (2046/2046), 22.73 MiB | 10.32 MiB/s, done.\n",
            "Resolving deltas: 100% (1362/1362), done.\n"
          ]
        }
      ],
      "source": [
        "! git clone https://github.com/sotorrent/db-scripts.git"
      ]
    },
    {
      "cell_type": "code",
      "source": [
        "%cd db-scripts"
      ],
      "metadata": {
        "colab": {
          "base_uri": "https://localhost:8080/"
        },
        "id": "8VSrEIEVVIiu",
        "outputId": "501f4c62-7672-4c20-8981-806c948ab636"
      },
      "execution_count": 2,
      "outputs": [
        {
          "output_type": "stream",
          "name": "stdout",
          "text": [
            "/content/db-scripts\n"
          ]
        }
      ]
    },
    {
      "cell_type": "code",
      "source": [
        "%cd sotorrent"
      ],
      "metadata": {
        "colab": {
          "base_uri": "https://localhost:8080/"
        },
        "id": "O5Ao4xXUVS8a",
        "outputId": "e0ca2f24-99f2-4699-ed43-eaf3bcc1fd9e"
      },
      "execution_count": 3,
      "outputs": [
        {
          "output_type": "stream",
          "name": "stdout",
          "text": [
            "/content/db-scripts/sotorrent\n"
          ]
        }
      ]
    },
    {
      "cell_type": "code",
      "source": [
        "! pip install --upgrade 'google-cloud-bigquery[bqstorage,pandas]'"
      ],
      "metadata": {
        "colab": {
          "base_uri": "https://localhost:8080/"
        },
        "id": "puyWPf7JVtKA",
        "outputId": "cb915b5e-db48-40d6-fe0c-a07deb23ab50"
      },
      "execution_count": 4,
      "outputs": [
        {
          "output_type": "stream",
          "name": "stdout",
          "text": [
            "Requirement already satisfied: google-cloud-bigquery[bqstorage,pandas] in /usr/local/lib/python3.7/dist-packages (1.21.0)\n",
            "Requirement already satisfied: protobuf>=3.6.0 in /usr/local/lib/python3.7/dist-packages (from google-cloud-bigquery[bqstorage,pandas]) (3.17.3)\n",
            "Requirement already satisfied: google-resumable-media!=0.4.0,<0.5.0dev,>=0.3.1 in /usr/local/lib/python3.7/dist-packages (from google-cloud-bigquery[bqstorage,pandas]) (0.4.1)\n",
            "Requirement already satisfied: google-cloud-core<2.0dev,>=1.0.3 in /usr/local/lib/python3.7/dist-packages (from google-cloud-bigquery[bqstorage,pandas]) (1.0.3)\n",
            "Requirement already satisfied: google-cloud-bigquery-storage<2.0.0dev,>=0.6.0 in /usr/local/lib/python3.7/dist-packages (from google-cloud-bigquery[bqstorage,pandas]) (1.1.1)\n",
            "Requirement already satisfied: pyarrow!=0.14.0,>=0.13.0 in /usr/local/lib/python3.7/dist-packages (from google-cloud-bigquery[bqstorage,pandas]) (6.0.1)\n",
            "Requirement already satisfied: pandas>=0.17.1 in /usr/local/lib/python3.7/dist-packages (from google-cloud-bigquery[bqstorage,pandas]) (1.3.5)\n",
            "Requirement already satisfied: google-api-core[grpc]!=2.0.*,!=2.1.*,!=2.2.*,!=2.3.0,<3.0.0dev,>=1.31.5 in /usr/local/lib/python3.7/dist-packages (from google-cloud-bigquery-storage<2.0.0dev,>=0.6.0->google-cloud-bigquery[bqstorage,pandas]) (1.31.5)\n",
            "Requirement already satisfied: requests<3.0.0dev,>=2.18.0 in /usr/local/lib/python3.7/dist-packages (from google-api-core[grpc]!=2.0.*,!=2.1.*,!=2.2.*,!=2.3.0,<3.0.0dev,>=1.31.5->google-cloud-bigquery-storage<2.0.0dev,>=0.6.0->google-cloud-bigquery[bqstorage,pandas]) (2.23.0)\n",
            "Requirement already satisfied: google-auth<2.0dev,>=1.25.0 in /usr/local/lib/python3.7/dist-packages (from google-api-core[grpc]!=2.0.*,!=2.1.*,!=2.2.*,!=2.3.0,<3.0.0dev,>=1.31.5->google-cloud-bigquery-storage<2.0.0dev,>=0.6.0->google-cloud-bigquery[bqstorage,pandas]) (1.35.0)\n",
            "Requirement already satisfied: setuptools>=40.3.0 in /usr/local/lib/python3.7/dist-packages (from google-api-core[grpc]!=2.0.*,!=2.1.*,!=2.2.*,!=2.3.0,<3.0.0dev,>=1.31.5->google-cloud-bigquery-storage<2.0.0dev,>=0.6.0->google-cloud-bigquery[bqstorage,pandas]) (57.4.0)\n",
            "Requirement already satisfied: packaging>=14.3 in /usr/local/lib/python3.7/dist-packages (from google-api-core[grpc]!=2.0.*,!=2.1.*,!=2.2.*,!=2.3.0,<3.0.0dev,>=1.31.5->google-cloud-bigquery-storage<2.0.0dev,>=0.6.0->google-cloud-bigquery[bqstorage,pandas]) (21.3)\n",
            "Requirement already satisfied: pytz in /usr/local/lib/python3.7/dist-packages (from google-api-core[grpc]!=2.0.*,!=2.1.*,!=2.2.*,!=2.3.0,<3.0.0dev,>=1.31.5->google-cloud-bigquery-storage<2.0.0dev,>=0.6.0->google-cloud-bigquery[bqstorage,pandas]) (2022.1)\n",
            "Requirement already satisfied: six>=1.13.0 in /usr/local/lib/python3.7/dist-packages (from google-api-core[grpc]!=2.0.*,!=2.1.*,!=2.2.*,!=2.3.0,<3.0.0dev,>=1.31.5->google-cloud-bigquery-storage<2.0.0dev,>=0.6.0->google-cloud-bigquery[bqstorage,pandas]) (1.15.0)\n",
            "Requirement already satisfied: googleapis-common-protos<2.0dev,>=1.6.0 in /usr/local/lib/python3.7/dist-packages (from google-api-core[grpc]!=2.0.*,!=2.1.*,!=2.2.*,!=2.3.0,<3.0.0dev,>=1.31.5->google-cloud-bigquery-storage<2.0.0dev,>=0.6.0->google-cloud-bigquery[bqstorage,pandas]) (1.56.0)\n",
            "Requirement already satisfied: grpcio<2.0dev,>=1.29.0 in /usr/local/lib/python3.7/dist-packages (from google-api-core[grpc]!=2.0.*,!=2.1.*,!=2.2.*,!=2.3.0,<3.0.0dev,>=1.31.5->google-cloud-bigquery-storage<2.0.0dev,>=0.6.0->google-cloud-bigquery[bqstorage,pandas]) (1.44.0)\n",
            "Requirement already satisfied: pyasn1-modules>=0.2.1 in /usr/local/lib/python3.7/dist-packages (from google-auth<2.0dev,>=1.25.0->google-api-core[grpc]!=2.0.*,!=2.1.*,!=2.2.*,!=2.3.0,<3.0.0dev,>=1.31.5->google-cloud-bigquery-storage<2.0.0dev,>=0.6.0->google-cloud-bigquery[bqstorage,pandas]) (0.2.8)\n",
            "Requirement already satisfied: cachetools<5.0,>=2.0.0 in /usr/local/lib/python3.7/dist-packages (from google-auth<2.0dev,>=1.25.0->google-api-core[grpc]!=2.0.*,!=2.1.*,!=2.2.*,!=2.3.0,<3.0.0dev,>=1.31.5->google-cloud-bigquery-storage<2.0.0dev,>=0.6.0->google-cloud-bigquery[bqstorage,pandas]) (4.2.4)\n",
            "Requirement already satisfied: rsa<5,>=3.1.4 in /usr/local/lib/python3.7/dist-packages (from google-auth<2.0dev,>=1.25.0->google-api-core[grpc]!=2.0.*,!=2.1.*,!=2.2.*,!=2.3.0,<3.0.0dev,>=1.31.5->google-cloud-bigquery-storage<2.0.0dev,>=0.6.0->google-cloud-bigquery[bqstorage,pandas]) (4.8)\n",
            "Requirement already satisfied: pyparsing!=3.0.5,>=2.0.2 in /usr/local/lib/python3.7/dist-packages (from packaging>=14.3->google-api-core[grpc]!=2.0.*,!=2.1.*,!=2.2.*,!=2.3.0,<3.0.0dev,>=1.31.5->google-cloud-bigquery-storage<2.0.0dev,>=0.6.0->google-cloud-bigquery[bqstorage,pandas]) (3.0.8)\n",
            "Requirement already satisfied: python-dateutil>=2.7.3 in /usr/local/lib/python3.7/dist-packages (from pandas>=0.17.1->google-cloud-bigquery[bqstorage,pandas]) (2.8.2)\n",
            "Requirement already satisfied: numpy>=1.17.3 in /usr/local/lib/python3.7/dist-packages (from pandas>=0.17.1->google-cloud-bigquery[bqstorage,pandas]) (1.21.6)\n",
            "Requirement already satisfied: pyasn1<0.5.0,>=0.4.6 in /usr/local/lib/python3.7/dist-packages (from pyasn1-modules>=0.2.1->google-auth<2.0dev,>=1.25.0->google-api-core[grpc]!=2.0.*,!=2.1.*,!=2.2.*,!=2.3.0,<3.0.0dev,>=1.31.5->google-cloud-bigquery-storage<2.0.0dev,>=0.6.0->google-cloud-bigquery[bqstorage,pandas]) (0.4.8)\n",
            "Requirement already satisfied: chardet<4,>=3.0.2 in /usr/local/lib/python3.7/dist-packages (from requests<3.0.0dev,>=2.18.0->google-api-core[grpc]!=2.0.*,!=2.1.*,!=2.2.*,!=2.3.0,<3.0.0dev,>=1.31.5->google-cloud-bigquery-storage<2.0.0dev,>=0.6.0->google-cloud-bigquery[bqstorage,pandas]) (3.0.4)\n",
            "Requirement already satisfied: idna<3,>=2.5 in /usr/local/lib/python3.7/dist-packages (from requests<3.0.0dev,>=2.18.0->google-api-core[grpc]!=2.0.*,!=2.1.*,!=2.2.*,!=2.3.0,<3.0.0dev,>=1.31.5->google-cloud-bigquery-storage<2.0.0dev,>=0.6.0->google-cloud-bigquery[bqstorage,pandas]) (2.10)\n",
            "Requirement already satisfied: urllib3!=1.25.0,!=1.25.1,<1.26,>=1.21.1 in /usr/local/lib/python3.7/dist-packages (from requests<3.0.0dev,>=2.18.0->google-api-core[grpc]!=2.0.*,!=2.1.*,!=2.2.*,!=2.3.0,<3.0.0dev,>=1.31.5->google-cloud-bigquery-storage<2.0.0dev,>=0.6.0->google-cloud-bigquery[bqstorage,pandas]) (1.24.3)\n",
            "Requirement already satisfied: certifi>=2017.4.17 in /usr/local/lib/python3.7/dist-packages (from requests<3.0.0dev,>=2.18.0->google-api-core[grpc]!=2.0.*,!=2.1.*,!=2.2.*,!=2.3.0,<3.0.0dev,>=1.31.5->google-cloud-bigquery-storage<2.0.0dev,>=0.6.0->google-cloud-bigquery[bqstorage,pandas]) (2021.10.8)\n"
          ]
        }
      ]
    },
    {
      "cell_type": "code",
      "source": [
        "from google.cloud import bigquery\n",
        "client = bigquery.Client()\n",
        "bucket_name = \"sde-course-project\"\n",
        "project = \"sotorrent-org\"\n",
        "dataset_id = \"sotorrent-org.2020_01_24\"\n",
        "table_id = \"sotorrent-org.2020_01_24.PostReferenceGH\"\n",
        "\n",
        "destination_uri = \"gs://{}/{}\".format(bucket_name, \"gh-post-reference.csv\")\n",
        "dataset_ref = bigquery.DatasetReference(project, dataset_id)\n",
        "table_ref = dataset_ref.table(table_id)\n",
        "\n",
        "extract_job = client.extract_table(\n",
        "    table_ref,\n",
        "    destination_uri,\n",
        "    # Location must match that of the source table.\n",
        "    location=\"US\",\n",
        ")  # API request\n",
        "extract_job.result()  # Waits for job to complete.\n",
        "\n",
        "print(\n",
        "    \"Exported {}:{}.{} to {}\".format(project, dataset_id, table_id, destination_uri)\n",
        ")"
      ],
      "metadata": {
        "colab": {
          "base_uri": "https://localhost:8080/"
        },
        "id": "svppjvoFYO9u",
        "outputId": "c385d12a-59d8-42df-d7ce-df5f4afbc913"
      },
      "execution_count": 5,
      "outputs": [
        {
          "output_type": "stream",
          "name": "stdout",
          "text": [
            "Exported sotorrent-org:sotorrent-org.2020_01_21.sotorrent-org.2020_01_21.PostReferenceGH to gs://sde-course-project/gh-post-reference.csv\n"
          ]
        }
      ]
    },
    {
      "cell_type": "code",
      "source": [
        "client = bigquery.Client()\n",
        "bucket_name = \"sde-course-project\"\n",
        "project = \"sotorrent-org\"\n",
        "dataset_id = \"sotorrent-org.2020_01_24\"\n",
        "table_id = \"sotorrent-org.2020_01_24.GHCommits\"\n",
        "\n",
        "destination_uri = \"gs://{}/{}\".format(bucket_name, \"gh-commits.csv\")\n",
        "dataset_ref = bigquery.DatasetReference(project, dataset_id)\n",
        "table_ref = dataset_ref.table(table_id)\n",
        "\n",
        "extract_job = client.extract_table(\n",
        "    table_ref,\n",
        "    destination_uri,\n",
        "    # Location must match that of the source table.\n",
        "    location=\"US\",\n",
        ")  # API request\n",
        "extract_job.result()  # Waits for job to complete.\n",
        "\n",
        "print(\n",
        "    \"Exported {}:{}.{} to {}\".format(project, dataset_id, table_id, destination_uri)\n",
        ")"
      ],
      "metadata": {
        "colab": {
          "base_uri": "https://localhost:8080/"
        },
        "id": "28JlvQ7OFtWV",
        "outputId": "0d3919b1-005c-4766-8968-15a9a9de6f36"
      },
      "execution_count": 6,
      "outputs": [
        {
          "output_type": "stream",
          "name": "stdout",
          "text": [
            "Exported sotorrent-org:sotorrent-org.2020_01_21.sotorrent-org.2020_01_21.GHCommits to gs://sde-course-project/gh-commits.csv\n"
          ]
        }
      ]
    },
    {
      "cell_type": "code",
      "source": [
        "client = bigquery.Client()\n",
        "bucket_name = \"sde-course-project\"\n",
        "project = \"sotorrent-org\"\n",
        "dataset_id = \"sotorrent-org.2020_01_24\"\n",
        "table_id = \"sotorrent-org.2020_01_24.GHMatches\"\n",
        "\n",
        "destination_uri = \"gs://{}/{}\".format(bucket_name, \"gh-matches.csv\")\n",
        "dataset_ref = bigquery.DatasetReference(project, dataset_id)\n",
        "table_ref = dataset_ref.table(table_id)\n",
        "\n",
        "extract_job = client.extract_table(\n",
        "    table_ref,\n",
        "    destination_uri,\n",
        "    # Location must match that of the source table.\n",
        "    location=\"US\",\n",
        ")  # API request\n",
        "extract_job.result()  # Waits for job to complete.\n",
        "\n",
        "print(\n",
        "    \"Exported {}:{}.{} to {}\".format(project, dataset_id, table_id, destination_uri)\n",
        ")"
      ],
      "metadata": {
        "colab": {
          "base_uri": "https://localhost:8080/"
        },
        "id": "nISfctptIn9w",
        "outputId": "42a0a855-8fc9-45f2-8ca7-6cd6291b5eee"
      },
      "execution_count": 7,
      "outputs": [
        {
          "output_type": "stream",
          "name": "stdout",
          "text": [
            "Exported sotorrent-org:sotorrent-org.2020_01_21.sotorrent-org.2020_01_21.GHMatches to gs://sde-course-project/gh-matches.csv\n"
          ]
        }
      ]
    },
    {
      "cell_type": "code",
      "source": [
        "import pandas as pd\n",
        "\n",
        "post_reference_GH = pd.read_csv(\"gs://sde-course-project/gh-post-reference.csv\")\n",
        "GH_commits = pd.read_csv(\"gs://sde-course-project/gh-commits.csv\")\n",
        "GH_matches = pd.read_csv(\"gs://sde-course-project/gh-matches.csv\")"
      ],
      "metadata": {
        "id": "fwe4iGcvJCdo"
      },
      "execution_count": 8,
      "outputs": []
    },
    {
      "cell_type": "code",
      "source": [
        "# all files with .java extension\n",
        "java_db = post_reference_GH.loc[post_reference_GH[\"FileExt\"] == \"java\"]\n",
        "java_db.shape()"
      ],
      "metadata": {
        "colab": {
          "base_uri": "https://localhost:8080/"
        },
        "id": "OYXyz8tpKRj2",
        "outputId": "9a326ec8-42bc-459b-d1fe-b3a7b87854f5"
      },
      "execution_count": 11,
      "outputs": [
        {
          "output_type": "stream",
          "name": "stdout",
          "text": [
            "(135489, 13)\n"
          ]
        }
      ]
    },
    {
      "cell_type": "code",
      "source": [
        "# select 500 random files\n",
        "java_db = java_db.sample(n = 500)\n",
        "java_db.shape()"
      ],
      "metadata": {
        "colab": {
          "base_uri": "https://localhost:8080/"
        },
        "id": "WbjcYxCoNu67",
        "outputId": "6acc1b77-fa5d-4696-a915-a7f1015fd549"
      },
      "execution_count": 13,
      "outputs": [
        {
          "output_type": "stream",
          "name": "stdout",
          "text": [
            "(500, 13)\n"
          ]
        }
      ]
    },
    {
      "cell_type": "code",
      "source": [
        "from collections import defaultdict\n",
        "file_commits_map = defaultdict(list)\n",
        "\n",
        "for file_id in java_db[java_db.columns[0]]:          # iterate files in java_db\n",
        "  for gh_match_file_id in GH_matches[GH_matches.columns[0]]:     # iterate gh_matches\n",
        "    if file_id == gh_match_file_id:       # if file is found in both db\n",
        "      ind = GH_matches[GH_matches.columns[0]].index(file_id)      \n",
        "      postIds = GH_matches[GH_matches.columns[0]][ind].split(\" \")   # postIds to corresponding file\n",
        "      for post_id in postIds:\n",
        "        for commit_post_id in GH_commits[GH_commits.columns[5]]:\n",
        "          if post_id == commit_post_id:      # if that postId is found in any particular commit\n",
        "            ind = GH_commits[GH_commits.columns[5]].index(commit_post_id)    \n",
        "            commit_id = GH_commits[GH_commits.columns[0]][ind]      # that file is a part of the commit\n",
        "            file_commits_map[file_id].append(commit_id)\n",
        "\n",
        "print(len(file_commits_map))"
      ],
      "metadata": {
        "colab": {
          "base_uri": "https://localhost:8080/"
        },
        "id": "XNrsu1ThQi1X",
        "outputId": "9b04f6be-5b63-4966-f16e-12c3dd9c1c68"
      },
      "execution_count": 20,
      "outputs": [
        {
          "output_type": "stream",
          "name": "stdout",
          "text": [
            "500\n"
          ]
        }
      ]
    },
    {
      "cell_type": "code",
      "source": [
        "# function to compute Low-level Similarity-based Class Cohesion\n",
        "def compute_lscc(java_class):\n",
        "  with open(java_class, \"r\"):\n",
        "    lines = java_class.readlines()\n",
        "  k = 0  # no of methods\n",
        "  l = 0  # no of attributes\n",
        "  for line in lines:\n",
        "    if \"{\" in line:\n",
        "      if line.beginswith(\"public static\"):\n",
        "        k += 1   # it is a method\n",
        "    if (\"int\" in line or \"String\" in line or \"Array\" in line) and (\"{\" not in line):\n",
        "      l += 1    # it is a attribute\n",
        "\n",
        "  if l == 0 and k > l:\n",
        "    return 0\n",
        "\n",
        "  if (l > 0 and k == 0) or k == 1:\n",
        "    return 1\n",
        "\n",
        "  x = l/(l + k)\n",
        "\n",
        "  lscc = 0\n",
        "  for i in range(l):\n",
        "    lscc += (pow(x, i)*(pow(x, i) - 1))/(l*k*(k-1))\n",
        "  \n",
        "  return lscc"
      ],
      "metadata": {
        "id": "-Ca6VqgsR9Kc"
      },
      "execution_count": 21,
      "outputs": []
    },
    {
      "cell_type": "code",
      "source": [
        "def compute_cc(java_class):\n",
        "  with open(java_class, \"r\"):\n",
        "    lines = java_class.readlines()\n",
        "  k = 0  # no of methods\n",
        "  l = 0  # no of attributes\n",
        "  attrs = []\n",
        "  methods = []\n",
        "  for line in lines:\n",
        "    if \"{\" in line:\n",
        "      if line.beginswith(\"public static\"):\n",
        "        k += 1   # it is a method\n",
        "        name = line.split(\" \")\n",
        "        name = name[-1]\n",
        "        name = name.strip(\"(\\*\\)\")\n",
        "        methods.append(name)\n",
        "    if (\"int\" in line or \"String\" in line or \"Array\" in line) and (\"{\" not in line):\n",
        "      l += 1    # it is a attribute\n",
        "      name = line.split(\" \")\n",
        "      name = line[-1]\n",
        "      attrs.append(name)\n",
        "\n",
        "  attr_method_map = defaultdict(list)   # map to store which attribute is accessed by which method\n",
        "\n",
        "  for method in methods:\n",
        "    stack = []\n",
        "    for char in lines:\n",
        "      words = lines.split()\n",
        "      for attr in attrs:\n",
        "        if attr in words:\n",
        "          attr_method_map[method].append(attr)\n",
        "      if char == \"{\":\n",
        "        stack.append(\"{\")\n",
        "      else:\n",
        "        stack.pop()\n",
        "      if len(stack) == 1 and char == \"}\":\n",
        "        break\n",
        "\n",
        "  cc = 0\n",
        "\n",
        "  for i in range(len(methods)):\n",
        "    for j in range(i+1, len(methods)):\n",
        "      intersect = len(set(attr_method_map[methods[i]]).intersection(set(attr_method_map[methods[j]])))\n",
        "      union = len(set(attr_method_map[methods[i]]).union(set(attr_method_map[methods[j]])))\n",
        "      cc += intersect/union\n",
        "  \n",
        "  cc = 2*cc/(k*(k-1))\n",
        "\n",
        "  return cc"
      ],
      "metadata": {
        "id": "R9v1TLNC3Npm"
      },
      "execution_count": 22,
      "outputs": []
    },
    {
      "cell_type": "code",
      "source": [
        "pre_snap_cc = []\n",
        "post_snap_cc = []\n",
        "\n",
        "pre_snap_lscc = []\n",
        "post_snap_lscc = []\n",
        "\n",
        "for file in file_commits_map:\n",
        "  pre_snap_cc.append(compute_cc(file_commits_map[file][0]))\n",
        "  post_snap_cc.append(compute_cc(file_commits_map[file][1]))\n",
        "\n",
        "  pre_snap_lscc.append(compute_lscc(file_commits_map[file][0]))\n",
        "  post_snap_lscc.append(compute_lscc(file_commits_map[file][1]))"
      ],
      "metadata": {
        "id": "cFd9vQ9-7wfo"
      },
      "execution_count": 23,
      "outputs": []
    },
    {
      "cell_type": "code",
      "source": [
        "constant_cc = 0\n",
        "constant_lscc = 0\n",
        "\n",
        "improving_cc = 0\n",
        "improving_lscc = 0\n",
        "\n",
        "deteriorating_cc = 0\n",
        "deteriorating_lscc = 0\n",
        "\n",
        "deteriorating_commits_cc = []\n",
        "deteriorating_commits_lscc = []\n",
        "\n",
        "for i in range(500):\n",
        "  if pre_snap_cc[i] == post_snap_cc[i]:\n",
        "    constant_cc += 1\n",
        "  if pre_snap_cc[i] > post_snap_cc[i]:\n",
        "    deteriorating_cc += 1\n",
        "    deteriorating_commits_cc.append(post_snap_cc[i])\n",
        "  if pre_snap_cc[i] < post_snap_cc[i]:\n",
        "    improving_cc += 1\n",
        "\n",
        "  if pre_snap_lscc[i] == post_snap_lscc[i]:\n",
        "    constant_lscc += 1\n",
        "  if pre_snap_lscc[i] > post_snap_lscc[i]:\n",
        "    deteriorating_lscc += 1\n",
        "    deteriorating_commits_lscc.append(post_snap_lscc[i])\n",
        "  if pre_snap_lscc[i] < post_snap_lscc[i]:\n",
        "    improving_lscc += 1"
      ],
      "metadata": {
        "id": "V7Z9dIzL_ESR"
      },
      "execution_count": 24,
      "outputs": []
    },
    {
      "cell_type": "code",
      "source": [
        "import numpy as np\n",
        "import matplotlib.pyplot as plt\n",
        "\n",
        "cc = [constant_cc, improving_cc, deteriorating_cc]\n",
        "lscc = [constant_lscc, improving_lscc, deteriorating_lscc]\n",
        "\n",
        "barwidth = 0.25\n",
        "br1 = np.arange(3)\n",
        "br2 = [x + barwidth for x in br1]\n",
        "\n",
        "plt.bar(br1, lscc, width = barwidth, label = 'LSCC')\n",
        "plt.bar(br2, cc, width = barwidth, label = 'CC')\n",
        "\n",
        "plt.ylabel('Number of Classes')\n",
        "plt.xticks([r + barwidth for r in range(3)], ['constant', 'improving', 'deteriorating'])\n",
        " \n",
        "plt.legend()\n",
        "plt.show()"
      ],
      "metadata": {
        "colab": {
          "base_uri": "https://localhost:8080/",
          "height": 265
        },
        "id": "JaNqAo7z_b44",
        "outputId": "449a4009-f03d-437a-b013-723e42030c4d"
      },
      "execution_count": 3,
      "outputs": [
        {
          "output_type": "display_data",
          "data": {
            "text/plain": [
              "<Figure size 432x288 with 1 Axes>"
            ],
            "image/png": "[encoded data removed]"
          },
          "metadata": {
            "needs_background": "light"
          }
        }
      ]
    },
    {
      "cell_type": "code",
      "source": [
        "fig, (ax1, ax2) = plt.subplots(1, 2, figsize=(10,10))\n",
        "labels = [\"constant\", \"improving\", \"deteriorating\"]\n",
        "explode = [0, 0, 0.05]\n",
        "\n",
        "ax1.pie(lscc, labels = labels, explode = explode, autopct = lambda p: '{:.2f}%'.format(p))\n",
        "ax2.pie(cc, labels = labels, explode = explode, autopct = lambda p: '{:.2f}%'.format(p))\n",
        "\n",
        "ax1.set_title(\"Low Level Similarity Class Cohesion (LSCC)\")\n",
        "ax2.set_title(\"Class Cohesion (CC)\")\n",
        "\n",
        "plt.show()"
      ],
      "metadata": {
        "colab": {
          "base_uri": "https://localhost:8080/",
          "height": 301
        },
        "id": "0ywxVWoYH5db",
        "outputId": "3e4146b3-eff2-4819-a996-7292aea61938"
      },
      "execution_count": 19,
      "outputs": [
        {
          "output_type": "display_data",
          "data": {
            "text/plain": [
              "<Figure size 720x720 with 2 Axes>"
            ],
            "image/png": "[encoded data removed]"
          },
          "metadata": {}
        }
      ]
    },
    {
      "cell_type": "code",
      "source": [
        "full_cc = 0\n",
        "partial_cc = 0\n",
        "not_cc = 0\n",
        "\n",
        "full_cc_commit = \"\"\n",
        "partial_cc_commit = \"\"\n",
        "not_cc_commit = \"\"\n",
        "\n",
        "for commit in deteriorating_commits_cc:\n",
        "  for key, value in file_commits_map:\n",
        "    if commit in value:\n",
        "      pre_snap_val = compute_cc(value[0])\n",
        "      for val in value[1:]:\n",
        "        if compute_cc(val) > pre_snap_val:\n",
        "          full_cc += 1\n",
        "          full_cc_commit = val\n",
        "        elif compute_cc(val) > 0.5*pre_snap_val:\n",
        "          partial_cc += 1\n",
        "          partial_cc_commit = val\n",
        "        else:\n",
        "          not_cc += 1\n",
        "          not_cc_commit = val\n",
        "\n",
        "full_lscc = 0\n",
        "partial_lscc = 0\n",
        "not_lscc = 0\n",
        "\n",
        "full_lscc_commit = \"\"\n",
        "partial_lscc_commit = \"\"\n",
        "not_lscc_commit = \"\"\n",
        "\n",
        "for commit in deteriorating_commits_lscc:\n",
        "  for key, value in file_commits_map:\n",
        "    if commit in value:\n",
        "      pre_snap_val = compute_lscc(value[0])\n",
        "      for val in value[1:]:\n",
        "        if compute_lscc(val) > pre_snap_val:\n",
        "          full_lscc += 1\n",
        "          full_lscc_commit = val\n",
        "        elif compute_lscc(val) > 0.5*pre_snap_val:\n",
        "          partial_lscc += 1\n",
        "          partial_lscc_commit = val\n",
        "        else:\n",
        "          not_lscc += 1\n",
        "          not_lscc_commit = val"
      ],
      "metadata": {
        "id": "J3g9gTRvJ-Px"
      },
      "execution_count": 20,
      "outputs": []
    },
    {
      "cell_type": "code",
      "source": [
        "cc = [full_cc, partial_cc, not_cc]\n",
        "lscc = [full_lscc, partial_lscc, not_lscc]\n",
        "\n",
        "for i in range(3):\n",
        "  cc[i] = cc[i]*100/sum(cc)\n",
        "  lscc[i] = lscc[i]*100/sum(lscc)\n",
        "\n",
        "barwidth = 0.25\n",
        "br1 = np.arange(3)\n",
        "br2 = [x + barwidth for x in br1]\n",
        "\n",
        "plt.bar(br1, lscc, width = barwidth, label = 'LSCC')\n",
        "plt.bar(br2, cc, width = barwidth, label = 'CC')\n",
        "\n",
        "plt.ylabel('Percentage of Classes')\n",
        "plt.xticks([r + barwidth for r in range(3)], ['Fully recovered', 'Partially recovered', 'Not recovered'])\n",
        " \n",
        "plt.legend()\n",
        "plt.show()"
      ],
      "metadata": {
        "colab": {
          "base_uri": "https://localhost:8080/",
          "height": 265
        },
        "id": "rwOSKWjnTQ3q",
        "outputId": "f48be751-60ec-456b-ee3a-be03a0a23c28"
      },
      "execution_count": 22,
      "outputs": [
        {
          "output_type": "display_data",
          "data": {
            "text/plain": [
              "<Figure size 432x288 with 1 Axes>"
            ],
            "image/png": "[encoded data removed]"
          },
          "metadata": {
            "needs_background": "light"
          }
        }
      ]
    },
    {
      "cell_type": "code",
      "source": [
        "def plot_cohesion_history(commit):\n",
        "  lscc_scores = []\n",
        "  cc_scores = []\n",
        "  dates = []\n",
        "  for key, value in file_commits_map:\n",
        "    if commit in value:\n",
        "      for val in value:\n",
        "        lscc_scores.append(compute_lscc(val))\n",
        "        cc_scores.append(compute_cc(val))\n",
        "        for commit_id in GH_commits[GH_commits.columns[0]]:\n",
        "          if commit_id == commit:\n",
        "            ind = GH_commits[GH_commits.columns[0]].index(commit_id)\n",
        "            date = GH_commits[GH_commits.columns[3]][ind]\n",
        "            dates.append(date)\n",
        "  \n",
        "  fig, ax = plt.subplots()\n",
        "  ax.plot(lscc_scores, label = \"LSCC\", marker = \"o\")\n",
        "  ax.plot(cc_scores, label = \"CC\", marker = \"o\")\n",
        "  ax.set_xticklabels([\"\"] + dates, rotation=90)\n",
        "  ax.legend()\n",
        "  plt.show()"
      ],
      "metadata": {
        "id": "dUn53pARUxCU"
      },
      "execution_count": 23,
      "outputs": []
    },
    {
      "cell_type": "code",
      "source": [
        "plot_cohesion_history(full_cc_commit)"
      ],
      "metadata": {
        "colab": {
          "base_uri": "https://localhost:8080/",
          "height": 307
        },
        "id": "qRV7hJ8ykL1H",
        "outputId": "db2c28f4-76eb-4b71-9d67-d2de2ec8bb5c"
      },
      "execution_count": 35,
      "outputs": [
        {
          "output_type": "display_data",
          "data": {
            "text/plain": [
              "<Figure size 432x288 with 1 Axes>"
            ],
            "image/png": "[encoded data removed]"
          },
          "metadata": {
            "needs_background": "light"
          }
        }
      ]
    },
    {
      "cell_type": "code",
      "source": [
        "plot_cohesion_history(partial_cc_commit)"
      ],
      "metadata": {
        "colab": {
          "base_uri": "https://localhost:8080/",
          "height": 309
        },
        "id": "gAGeruv2lUV_",
        "outputId": "cb7499b4-3888-436d-a928-024c997b93ee"
      },
      "execution_count": 36,
      "outputs": [
        {
          "output_type": "display_data",
          "data": {
            "text/plain": [
              "<Figure size 432x288 with 1 Axes>"
            ],
            "image/png": "[encoded data removed]"
          },
          "metadata": {
            "needs_background": "light"
          }
        }
      ]
    },
    {
      "cell_type": "code",
      "source": [
        "plot_cohesion_history(not_cc_commit)"
      ],
      "metadata": {
        "colab": {
          "base_uri": "https://localhost:8080/",
          "height": 307
        },
        "id": "7UUJsLtJ1J-g",
        "outputId": "faa16ebc-e61a-4d49-9e88-cc22b2dc24af"
      },
      "execution_count": 37,
      "outputs": [
        {
          "output_type": "display_data",
          "data": {
            "text/plain": [
              "<Figure size 432x288 with 1 Axes>"
            ],
            "image/png": "[encoded data removed]"
          },
          "metadata": {
            "needs_background": "light"
          }
        }
      ]
    },
    {
      "cell_type": "code",
      "source": [
        ""
      ],
      "metadata": {
        "id": "nLSPg-5v3YNx"
      },
      "execution_count": null,
      "outputs": []
    }
  ]
}